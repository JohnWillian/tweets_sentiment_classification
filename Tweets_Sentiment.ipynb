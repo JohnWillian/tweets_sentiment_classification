{
 "cells": [
  {
   "cell_type": "markdown",
   "id": "5d844f74",
   "metadata": {},
   "source": [
    "In order to run the code more conveniently, the follwing case uses the model provided by *sklearn*, and the detailed composition of some algorithms please refer to `Algorithms` folder."
   ]
  },
  {
   "cell_type": "code",
   "execution_count": 43,
   "id": "b3cca061",
   "metadata": {},
   "outputs": [],
   "source": [
    "import pickle\n",
    "import pandas as pd\n",
    "import numpy as np\n",
    "import sklearn\n",
    "from tqdm import tqdm\n",
    "import matplotlib.pyplot as plt\n",
    "from sklearn.metrics import confusion_matrix\n",
    "from sklearn.metrics import accuracy_score, precision_score, recall_score, f1_score\n",
    "from sklearn.model_selection import train_test_split"
   ]
  },
  {
   "cell_type": "markdown",
   "id": "bfd65f51",
   "metadata": {},
   "source": [
    "# Data Preprocess"
   ]
  },
  {
   "cell_type": "code",
   "execution_count": 44,
   "id": "f6507bf3",
   "metadata": {},
   "outputs": [],
   "source": [
    "# read data\n",
    "def readData(dataType):\n",
    "    if dataType == 'raw':\n",
    "        # read row data\n",
    "        train = pd.read_pickle('tweets-data/train.pkl')\n",
    "        test = pd.read_pickle('tweets-data/test.pkl')\n",
    "        dev = pd.read_pickle('tweets-data/dev.pkl')\n",
    "        unlabeled = pd.read_pickle('tweets-data/unlabeled.pkl')\n",
    "    elif dataType == 'tfidf':\n",
    "        # read TFIDF data\n",
    "        train = pd.read_pickle('tfidf/train_tfidf.pkl')\n",
    "        test = pd.read_pickle('tfidf/test_tfidf.pkl')\n",
    "        dev = pd.read_pickle('tfidf/dev_tfidf.pkl')\n",
    "        unlabeled = pd.read_pickle('tfidf/unlabeled_tfidf.pkl')\n",
    "    elif dataType == 'embeding':\n",
    "        # read embeding data\n",
    "        train = pd.read_pickle('sentence-transformers/train_emb.pkl')\n",
    "        test = pd.read_pickle('sentence-transformers/test_emb.pkl')\n",
    "        dev = pd.read_pickle('sentence-transformers/dev_emb.pkl')\n",
    "        unlabeled = pd.read_pickle('sentence-transformers/unlabeled_emb.pkl')\n",
    "    else:\n",
    "        print(\"Error: Wrong data type value\")\n",
    "    \n",
    "    return (train, dev, test, unlabeled)\n",
    "\n",
    "# data preprocess\n",
    "def preprocess(data):\n",
    "    train, dev, test, unlabeled = data\n",
    "    train['Sentiment'] = pd.Categorical(train['Sentiment'])\n",
    "    train['Sentiment'] = train.Sentiment.cat.codes\n",
    "\n",
    "    unlabeled['Sentiment'] = pd.Categorical(unlabeled['Sentiment'])\n",
    "    unlabeled['Sentiment'] = unlabeled.Sentiment.cat.codes\n",
    "\n",
    "    dev['Sentiment'] = pd.Categorical(dev['Sentiment'])\n",
    "    dev['Sentiment'] = dev.Sentiment.cat.codes\n",
    "    \n",
    "    return (train, dev, test, unlabeled)"
   ]
  },
  {
   "cell_type": "code",
   "execution_count": 45,
   "id": "31865be4",
   "metadata": {},
   "outputs": [],
   "source": [
    "# dataType = ['raw', 'tfidf', 'embeding']\n",
    "tfidf_data = readData('tfidf')\n",
    "tfidf_data = preprocess(tfidf_data)\n",
    "\n",
    "embed_data = readData('embeding')\n",
    "embed_data = preprocess(embed_data)"
   ]
  },
  {
   "cell_type": "markdown",
   "id": "bfe83a4d",
   "metadata": {},
   "source": [
    "# Baseline Model"
   ]
  },
  {
   "cell_type": "code",
   "execution_count": 46,
   "id": "e364b4e7",
   "metadata": {},
   "outputs": [],
   "source": [
    "from sklearn.dummy import DummyClassifier\n",
    "\n",
    "def BaselineModel(data):\n",
    "    train, dev, test, unlabeled = data\n",
    "\n",
    "    X_train, y_train = train['TFIDF'][:].tolist(), train['Sentiment']\n",
    "    X_test, y_test = dev['TFIDF'][:].tolist(), dev['Sentiment']\n",
    "\n",
    "    clf = DummyClassifier(strategy=\"most_frequent\")\n",
    "    baseline = clf.fit(X_train, y_train)\n",
    "\n",
    "    y_pred = clf.predict(X_test)\n",
    "    \n",
    "    accuracy = accuracy_score(y_test, y_pred)\n",
    "    precision = precision_score(y_test, y_pred, average='weighted')\n",
    "    recall = recall_score(y_test, y_pred, average='weighted')\n",
    "    f1 = f1_score(y_test, y_pred, average='weighted')\n",
    "    cm = confusion_matrix(y_test, y_pred)\n",
    "    \n",
    "    return (accuracy, precision, recall, f1, cm)"
   ]
  },
  {
   "cell_type": "markdown",
   "id": "00d4dc2c",
   "metadata": {},
   "source": [
    "# Supervised"
   ]
  },
  {
   "cell_type": "markdown",
   "id": "d339d8d5",
   "metadata": {},
   "source": [
    "### 1. K-Nearest Neighbors"
   ]
  },
  {
   "cell_type": "code",
   "execution_count": 47,
   "id": "64f8ac6b",
   "metadata": {},
   "outputs": [],
   "source": [
    "from sklearn.neighbors import KNeighborsClassifier\n",
    "\n",
    "def KNN(data, k=3):\n",
    "    train, dev, test, unlabeled = data\n",
    "\n",
    "    X_train, y_train = train['TFIDF'][:].tolist(), train['Sentiment']\n",
    "    X_test, y_test = dev['TFIDF'][:].tolist(), dev['Sentiment']\n",
    "\n",
    "    clf = KNeighborsClassifier(n_neighbors=k)\n",
    "    knn = clf.fit(X_train, y_train)\n",
    "\n",
    "    y_pred = clf.predict(X_test)\n",
    "    \n",
    "    accuracy = accuracy_score(y_test, y_pred)\n",
    "    precision = precision_score(y_test, y_pred, average='weighted')\n",
    "    recall = recall_score(y_test, y_pred, average='weighted')\n",
    "    f1 = f1_score(y_test, y_pred, average='weighted')\n",
    "    cm = confusion_matrix(y_test, y_pred)\n",
    "    \n",
    "    return (accuracy, precision, recall, f1, cm)"
   ]
  },
  {
   "cell_type": "markdown",
   "id": "1f510342",
   "metadata": {},
   "source": [
    "### 2. Gaussian Naive Bayes"
   ]
  },
  {
   "cell_type": "code",
   "execution_count": 48,
   "id": "a0123517",
   "metadata": {},
   "outputs": [],
   "source": [
    "from sklearn.naive_bayes import GaussianNB\n",
    "\n",
    "def GNB(data):\n",
    "    train, dev, test, unlabeled = data\n",
    "    \n",
    "    X_train, y_train = train['TFIDF'][:].tolist(), train['Sentiment']\n",
    "    X_test, y_test = dev['TFIDF'][:].tolist(), dev['Sentiment']\n",
    "    \n",
    "    clf = GaussianNB()\n",
    "    gnb = clf.fit(X_train, y_train)\n",
    "    \n",
    "    y_pred = clf.predict(X_test)\n",
    "    \n",
    "    accuracy = accuracy_score(y_test, y_pred)\n",
    "    precision = precision_score(y_test, y_pred, average='weighted')\n",
    "    recall = recall_score(y_test, y_pred, average='weighted')\n",
    "    f1 = f1_score(y_test, y_pred, average='weighted')\n",
    "    cm = confusion_matrix(y_test, y_pred)\n",
    "    \n",
    "    return (accuracy, precision, recall, f1, cm)"
   ]
  },
  {
   "cell_type": "markdown",
   "id": "d366b443",
   "metadata": {},
   "source": [
    "# Unsupervised"
   ]
  },
  {
   "cell_type": "markdown",
   "id": "597fc1a4",
   "metadata": {},
   "source": [
    "### 1. K-Means"
   ]
  },
  {
   "cell_type": "code",
   "execution_count": 49,
   "id": "1cd55e33",
   "metadata": {},
   "outputs": [],
   "source": [
    "from sklearn.cluster import KMeans\n",
    "\n",
    "def K_Means(data):\n",
    "    train, dev, test, unlabeled = data\n",
    "    \n",
    "    X_train = unlabeled['TFIDF'][:].tolist()\n",
    "    X_test, y_test = dev['TFIDF'][:].tolist(), dev['Sentiment']\n",
    "    \n",
    "    clf = KMeans(n_clusters=2, random_state=0)\n",
    "    k_means = clf.fit(X_train)\n",
    "    \n",
    "    y_pred = clf.predict(X_test)\n",
    "    \n",
    "    accuracy = accuracy_score(y_test, y_pred)\n",
    "    precision = precision_score(y_test, y_pred, average='weighted')\n",
    "    recall = recall_score(y_test, y_pred, average='weighted')\n",
    "    f1 = f1_score(y_test, y_pred, average='weighted')\n",
    "    cm = confusion_matrix(y_test, y_pred)\n",
    "    \n",
    "    return (accuracy, precision, recall, f1, cm)"
   ]
  },
  {
   "cell_type": "markdown",
   "id": "a762a890",
   "metadata": {},
   "source": [
    "# Semi-supervised"
   ]
  },
  {
   "cell_type": "markdown",
   "id": "3f482ecf",
   "metadata": {},
   "source": [
    "### 1. Self-Training GNB"
   ]
  },
  {
   "cell_type": "code",
   "execution_count": 50,
   "id": "26fbf2c5",
   "metadata": {},
   "outputs": [],
   "source": [
    "from sklearn.semi_supervised import SelfTrainingClassifier\n",
    "from sklearn.naive_bayes import GaussianNB\n",
    "\n",
    "def SelfTrain_GNB(data, rng=100000):\n",
    "    train, dev, test, unlabeled = data\n",
    "    \n",
    "    df = pd.concat([train, unlabeled[:rng]])\n",
    "    df = df.sample(frac=1).reset_index(drop=True)\n",
    "\n",
    "    X_train, y_train = df['TFIDF'][:].tolist(), df['Sentiment']\n",
    "    X_test, y_test = dev['TFIDF'][:].tolist(), dev['Sentiment']\n",
    "    \n",
    "    GNB = GaussianNB()\n",
    "    clf = SelfTrainingClassifier(GNB)\n",
    "    \n",
    "    self_training_model = clf.fit(X_train, y_train)\n",
    "    \n",
    "    y_pred = clf.predict(X_test)\n",
    "    \n",
    "    accuracy = accuracy_score(y_test, y_pred)\n",
    "    precision = precision_score(y_test, y_pred, average='weighted')\n",
    "    recall = recall_score(y_test, y_pred, average='weighted')\n",
    "    f1 = f1_score(y_test, y_pred, average='weighted')\n",
    "    cm = confusion_matrix(y_test, y_pred)\n",
    "    \n",
    "    return (accuracy, precision, recall, f1, cm)"
   ]
  },
  {
   "cell_type": "markdown",
   "id": "3f7519f2",
   "metadata": {},
   "source": [
    "### 2. Self-Training K-NN"
   ]
  },
  {
   "cell_type": "code",
   "execution_count": 51,
   "id": "4726c911",
   "metadata": {},
   "outputs": [],
   "source": [
    "from sklearn.semi_supervised import SelfTrainingClassifier\n",
    "from sklearn.neighbors import KNeighborsClassifier\n",
    "\n",
    "def SelfTrain_KNN(data, rng=100000, k=35):\n",
    "    train, dev, test, unlabeled = data\n",
    "    \n",
    "    df = pd.concat([train, unlabeled[:rng]])\n",
    "    df = df.sample(frac=1).reset_index(drop=True)\n",
    "    \n",
    "    X_train, y_train = df['TFIDF'][:].tolist(), df['Sentiment']\n",
    "    X_test, y_test = dev['TFIDF'][:].tolist(), dev['Sentiment']\n",
    "    \n",
    "    knn = KNeighborsClassifier(n_neighbors=k)\n",
    "    \n",
    "    clf = SelfTrainingClassifier(knn)\n",
    "    \n",
    "    self_training_model = clf.fit(X_train, y_train)\n",
    "    \n",
    "    y_pred = clf.predict(X_test)\n",
    "    \n",
    "    accuracy = accuracy_score(y_test, y_pred)\n",
    "    precision = precision_score(y_test, y_pred, average='weighted')\n",
    "    recall = recall_score(y_test, y_pred, average='weighted')\n",
    "    f1 = f1_score(y_test, y_pred, average='weighted')\n",
    "    cm = confusion_matrix(y_test, y_pred)\n",
    "    \n",
    "    return (accuracy, precision, recall, f1, cm)"
   ]
  },
  {
   "cell_type": "markdown",
   "id": "472c9cb7",
   "metadata": {},
   "source": [
    "# Model analysis"
   ]
  },
  {
   "cell_type": "markdown",
   "id": "ce80f405",
   "metadata": {},
   "source": [
    "### Find the best k for K-NN"
   ]
  },
  {
   "cell_type": "code",
   "execution_count": 13,
   "id": "0cba7efa",
   "metadata": {},
   "outputs": [
    {
     "name": "stderr",
     "output_type": "stream",
     "text": [
      "100%|██████████| 50/50 [07:40<00:00,  9.21s/it]\n"
     ]
    },
    {
     "data": {
      "image/png": "[encoded data removed]",
      "text/plain": [
       "<Figure size 432x288 with 1 Axes>"
      ]
     },
     "metadata": {
      "needs_background": "light"
     },
     "output_type": "display_data"
    }
   ],
   "source": [
    "knn_embed_record = []\n",
    "knn_tfidf_record = []\n",
    "\n",
    "for i in tqdm(range(50)):\n",
    "    knn_embed_record.append(KNN(embed_data, k=i+1)[0])\n",
    "    knn_tfidf_record.append(KNN(tfidf_data, k=i+1)[0])\n",
    "\n",
    "knn_x = np.array([i for i in range(len(knn_embed_record))])\n",
    "\n",
    "argmax_embed = np.argmax(knn_embed_record)\n",
    "max_embed = max(knn_embed_record)\n",
    "\n",
    "argmax_tfidf = np.argmax(knn_tfidf_record)\n",
    "max_tfidf = max(knn_tfidf_record)\n",
    "\n",
    "plt.plot(knn_x, np.array(knn_embed_record), color='r', label='Embeding Data')\n",
    "plt.plot(knn_x, np.array(knn_tfidf_record), color='b', label='TFIDF Data')\n",
    "\n",
    "plt.plot(argmax_embed,max_embed,'ko')\n",
    "plt.plot(argmax_tfidf,max_tfidf,'ko')\n",
    "\n",
    "max_embed_text = \"K = \" + str(argmax_embed) + \"\\n\" + \"acc = \" + str(max_embed)\n",
    "max_tfidf_text = \"K = \" + str(argmax_tfidf) + \"\\n\" + \"acc = \" + str(max_tfidf)\n",
    "\n",
    "plt.annotate(max_embed_text, xy=(argmax_embed, max_embed),xytext=(argmax_embed, max_embed+0.008))\n",
    "plt.annotate(max_tfidf_text, xy=(argmax_tfidf, max_tfidf),xytext=(argmax_tfidf, max_tfidf+0.008))\n",
    "\n",
    "plt.title(\"KNN with different K\")\n",
    "plt.xlabel(\"K value\")\n",
    "plt.ylabel(\"Accuracy\")\n",
    "plt.legend()\n",
    "plt.show()"
   ]
  },
  {
   "cell_type": "markdown",
   "id": "c885e120",
   "metadata": {},
   "source": [
    "### Analysis"
   ]
  },
  {
   "cell_type": "code",
   "execution_count": 52,
   "id": "cab37eb5",
   "metadata": {},
   "outputs": [
    {
     "name": "stderr",
     "output_type": "stream",
     "text": [
      "/Users/macbookpro/opt/anaconda3/lib/python3.8/site-packages/sklearn/metrics/_classification.py:1245: UndefinedMetricWarning: Precision is ill-defined and being set to 0.0 in labels with no predicted samples. Use `zero_division` parameter to control this behavior.\n",
      "  _warn_prf(average, modifier, msg_start, len(result))\n",
      "/Users/macbookpro/opt/anaconda3/lib/python3.8/site-packages/sklearn/metrics/_classification.py:1245: UndefinedMetricWarning: Precision is ill-defined and being set to 0.0 in labels with no predicted samples. Use `zero_division` parameter to control this behavior.\n",
      "  _warn_prf(average, modifier, msg_start, len(result))\n"
     ]
    }
   ],
   "source": [
    "#data type: embeding\n",
    "e_Baseline_score = BaselineModel(embed_data)\n",
    "\n",
    "e_KNN_score = KNN(embed_data, k=45)\n",
    "e_GNB_score = GNB(embed_data)\n",
    "\n",
    "e_K_Means_score = K_Means(embed_data)\n",
    "\n",
    "e_SelfTrain_GNB_score = SelfTrain_GNB(embed_data)\n",
    "e_SelfTrain_KNN_score = SelfTrain_KNN(embed_data)\n",
    "\n",
    "\n",
    "# data type: tfidf\n",
    "t_Baseline_score = BaselineModel(tfidf_data)\n",
    "\n",
    "t_KNN_score = KNN(tfidf_data, k=34)\n",
    "t_GNB_score = GNB(tfidf_data)\n",
    "\n",
    "t_K_Means_score = K_Means(tfidf_data)\n",
    "\n",
    "t_SelfTrain_GNB_score = SelfTrain_GNB(tfidf_data)\n",
    "t_SelfTrain_KNN_score = SelfTrain_KNN(tfidf_data)"
   ]
  },
  {
   "cell_type": "code",
   "execution_count": 53,
   "id": "8d0cb7f1",
   "metadata": {},
   "outputs": [
    {
     "data": {
      "image/png": "[encoded data removed]",
      "text/plain": [
       "<Figure size 1080x720 with 4 Axes>"
      ]
     },
     "metadata": {
      "needs_background": "light"
     },
     "output_type": "display_data"
    }
   ],
   "source": [
    "#data type: embeding\n",
    "score = ['Accuracy', 'Precision', 'Recall', 'F1 Score']\n",
    "models = ['Baseline','KNN', 'GNB', 'K-Means', 'SelfTrain-GNB', 'SelfTrain-KNN']\n",
    "models_index = {'Baseline':0,'KNN':1, 'GNB':2, 'K-Means':3, 'SelfTrain-GNB':4, 'SelfTrain-KNN':5}\n",
    "\n",
    "# score = ['accuracy', 'precision', 'recall', 'f1']\n",
    "e_data = [e_Baseline_score, e_KNN_score, e_GNB_score, e_K_Means_score, e_SelfTrain_GNB_score, e_SelfTrain_KNN_score]\n",
    "\n",
    "e_accuracy_list = [0 for _ in range(len(models))]\n",
    "e_precision_list = [0 for _ in range(len(models))]\n",
    "e_recall_list = [0 for _ in range(len(models))]\n",
    "e_f1_list = [0 for _ in range(len(models))]\n",
    "\n",
    "for i in range(len(e_data)):\n",
    "    e_accuracy_list[i] = e_data[i][0]\n",
    "    e_precision_list[i] = e_data[i][1]\n",
    "    e_recall_list[i] = e_data[i][2]\n",
    "    e_f1_list[i] = e_data[i][3]\n",
    "    \n",
    "e_data_list = [e_accuracy_list, e_precision_list, e_recall_list, e_f1_list]\n",
    "    \n",
    "#data type: tfidf\n",
    "t_data = [t_Baseline_score, t_KNN_score, t_GNB_score, t_K_Means_score, t_SelfTrain_GNB_score, t_SelfTrain_KNN_score]\n",
    "\n",
    "t_accuracy_list = [0 for _ in range(len(models))]\n",
    "t_precision_list = [0 for _ in range(len(models))]\n",
    "t_recall_list = [0 for _ in range(len(models))]\n",
    "t_f1_list = [0 for _ in range(len(models))]\n",
    "\n",
    "for i in range(len(t_data)):\n",
    "    t_accuracy_list[i] = t_data[i][0]\n",
    "    t_precision_list[i] = t_data[i][1]\n",
    "    t_recall_list[i] = t_data[i][2]\n",
    "    t_f1_list[i] = t_data[i][3]\n",
    "\n",
    "t_data_list = [t_accuracy_list, t_precision_list, t_recall_list, t_f1_list]\n",
    "\n",
    "bar_width = 0.3\n",
    "index_e_data = np.arange(len(models))\n",
    "index_t_data = index_e_data + bar_width\n",
    "\n",
    "fig, axs = plt.subplots(2, 2, figsize=(15, 10), sharey=True)\n",
    "\n",
    "index_count = 0\n",
    "\n",
    "for i in range(2):\n",
    "    for j in range(2):\n",
    "        axs[i][j].bar(index_e_data, height=e_data_list[index_count], width=bar_width, color='y', label='Embeding Data')\n",
    "        axs[i][j].bar(index_t_data, height=t_data_list[index_count], width=bar_width, color='r', label='TFIDF Data')\n",
    "\n",
    "        axs[i][j].legend(loc=(0.705,1))\n",
    "        axs[i][j].set_title(score[index_count])\n",
    "        axs[i][j].set_xticks(index_e_data+(0.5*bar_width))\n",
    "        axs[i][j].set_xticklabels(models, rotation=30)\n",
    "        axs[i][j].set_ylabel('Probability')\n",
    "        index_count += 1\n",
    "\n",
    "plt.subplots_adjust(hspace=0.5)\n",
    "plt.show()"
   ]
  },
  {
   "cell_type": "code",
   "execution_count": 54,
   "id": "4d02a0f4",
   "metadata": {},
   "outputs": [
    {
     "name": "stdout",
     "output_type": "stream",
     "text": [
      "------------------------Sentence-transformers dataset------------------------\n",
      "\n",
      "\n",
      "Baseline Model\n",
      "    accuracy score:   0.5\n",
      "    precision score:  0.25\n",
      "    recall score:     0.5\n",
      "    f1 score:         0.3333333333333333\n",
      "\n",
      "\n",
      "K-Nearest Neighbors\n",
      "    accuracy score:   0.688\n",
      "    precision score:  0.691385416634854\n",
      "    recall score:     0.688\n",
      "    f1 score:         0.6866141293334449\n",
      "\n",
      "\n",
      "Gaussian Naive Bayes\n",
      "    accuracy score:   0.61475\n",
      "    precision score:  0.6181032160354835\n",
      "    recall score:     0.61475\n",
      "    f1 score:         0.6119959228098494\n",
      "\n",
      "\n",
      "K-Means\n",
      "    accuracy score:   0.57825\n",
      "    precision score:  0.59311045130606\n",
      "    recall score:     0.57825\n",
      "    f1 score:         0.560722812774894\n",
      "\n",
      "\n",
      "Self-Training GNB\n",
      "    accuracy score:   0.58825\n",
      "    precision score:  0.5982827251544472\n",
      "    recall score:     0.58825\n",
      "    f1 score:         0.5774669296359937\n",
      "\n",
      "\n",
      "Self-Training K-NN\n",
      "    accuracy score:   0.66325\n",
      "    precision score:  0.6811695227917087\n",
      "    recall score:     0.66325\n",
      "    f1 score:         0.6547118660881872\n",
      "\n",
      "\n",
      "\n",
      "\n",
      "------------------------TFIDF dataset------------------------\n",
      "\n",
      "\n",
      "Baseline Model\n",
      "    accuracy score:   0.5\n",
      "    precision score:  0.25\n",
      "    recall score:     0.5\n",
      "    f1 score:         0.3333333333333333\n",
      "\n",
      "\n",
      "K-Nearest Neighbors\n",
      "    accuracy score:   0.619\n",
      "    precision score:  0.621310232059338\n",
      "    recall score:     0.619\n",
      "    f1 score:         0.6171773815133852\n",
      "\n",
      "\n",
      "Gaussian Naive Bayes\n",
      "    accuracy score:   0.64525\n",
      "    precision score:  0.6452660155782175\n",
      "    recall score:     0.64525\n",
      "    f1 score:         0.6452402219336171\n",
      "\n",
      "\n",
      "K-Means\n",
      "    accuracy score:   0.5685\n",
      "    precision score:  0.5951178836895741\n",
      "    recall score:     0.5685\n",
      "    f1 score:         0.5360413358676336\n",
      "\n",
      "\n",
      "Self-Training GNB\n",
      "    accuracy score:   0.62675\n",
      "    precision score:  0.6273475465251828\n",
      "    recall score:     0.62675\n",
      "    f1 score:         0.6263116401984302\n",
      "\n",
      "\n",
      "Self-Training K-NN\n",
      "    accuracy score:   0.63075\n",
      "    precision score:  0.6308489545218572\n",
      "    recall score:     0.63075\n",
      "    f1 score:         0.6306801754706748\n",
      "\n",
      "\n"
     ]
    }
   ],
   "source": [
    "print(\"------------------------Sentence-transformers dataset------------------------\")\n",
    "print(\"\\n\")\n",
    "\n",
    "print(\"Baseline Model\")\n",
    "print(\"    accuracy score:  \", e_Baseline_score[0])\n",
    "print(\"    precision score: \", e_Baseline_score[1])\n",
    "print(\"    recall score:    \", e_Baseline_score[2])\n",
    "print(\"    f1 score:        \", e_Baseline_score[3])\n",
    "print(\"\\n\")\n",
    "\n",
    "print(\"K-Nearest Neighbors\")\n",
    "print(\"    accuracy score:  \", e_KNN_score[0])\n",
    "print(\"    precision score: \", e_KNN_score[1])\n",
    "print(\"    recall score:    \", e_KNN_score[2])\n",
    "print(\"    f1 score:        \", e_KNN_score[3])\n",
    "print(\"\\n\")\n",
    "\n",
    "print(\"Gaussian Naive Bayes\")\n",
    "print(\"    accuracy score:  \", e_GNB_score[0])\n",
    "print(\"    precision score: \", e_GNB_score[1])\n",
    "print(\"    recall score:    \", e_GNB_score[2])\n",
    "print(\"    f1 score:        \", e_GNB_score[3])\n",
    "print(\"\\n\")\n",
    "\n",
    "print(\"K-Means\")\n",
    "print(\"    accuracy score:  \", e_K_Means_score[0])\n",
    "print(\"    precision score: \", e_K_Means_score[1])\n",
    "print(\"    recall score:    \", e_K_Means_score[2])\n",
    "print(\"    f1 score:        \", e_K_Means_score[3])\n",
    "print(\"\\n\")\n",
    "\n",
    "print(\"Self-Training GNB\")\n",
    "print(\"    accuracy score:  \", e_SelfTrain_GNB_score[0])\n",
    "print(\"    precision score: \", e_SelfTrain_GNB_score[1])\n",
    "print(\"    recall score:    \", e_SelfTrain_GNB_score[2])\n",
    "print(\"    f1 score:        \", e_SelfTrain_GNB_score[3])\n",
    "print(\"\\n\")\n",
    "\n",
    "print(\"Self-Training K-NN\")\n",
    "print(\"    accuracy score:  \", e_SelfTrain_KNN_score[0])\n",
    "print(\"    precision score: \", e_SelfTrain_KNN_score[1])\n",
    "print(\"    recall score:    \", e_SelfTrain_KNN_score[2])\n",
    "print(\"    f1 score:        \", e_SelfTrain_KNN_score[3])\n",
    "print(\"\\n\")\n",
    "\n",
    "print(\"\\n\")\n",
    "\n",
    "print(\"------------------------TFIDF dataset------------------------\")\n",
    "print(\"\\n\")\n",
    "\n",
    "print(\"Baseline Model\")\n",
    "print(\"    accuracy score:  \", t_Baseline_score[0])\n",
    "print(\"    precision score: \", t_Baseline_score[1])\n",
    "print(\"    recall score:    \", t_Baseline_score[2])\n",
    "print(\"    f1 score:        \", t_Baseline_score[3])\n",
    "print(\"\\n\")\n",
    "\n",
    "print(\"K-Nearest Neighbors\")\n",
    "print(\"    accuracy score:  \", t_KNN_score[0])\n",
    "print(\"    precision score: \", t_KNN_score[1])\n",
    "print(\"    recall score:    \", t_KNN_score[2])\n",
    "print(\"    f1 score:        \", t_KNN_score[3])\n",
    "print(\"\\n\")\n",
    "\n",
    "print(\"Gaussian Naive Bayes\")\n",
    "print(\"    accuracy score:  \", t_GNB_score[0])\n",
    "print(\"    precision score: \", t_GNB_score[1])\n",
    "print(\"    recall score:    \", t_GNB_score[2])\n",
    "print(\"    f1 score:        \", t_GNB_score[3])\n",
    "print(\"\\n\")\n",
    "\n",
    "print(\"K-Means\")\n",
    "print(\"    accuracy score:  \", t_K_Means_score[0])\n",
    "print(\"    precision score: \", t_K_Means_score[1])\n",
    "print(\"    recall score:    \", t_K_Means_score[2])\n",
    "print(\"    f1 score:        \", t_K_Means_score[3])\n",
    "print(\"\\n\")\n",
    "\n",
    "print(\"Self-Training GNB\")\n",
    "print(\"    accuracy score:  \", t_SelfTrain_GNB_score[0])\n",
    "print(\"    precision score: \", t_SelfTrain_GNB_score[1])\n",
    "print(\"    recall score:    \", t_SelfTrain_GNB_score[2])\n",
    "print(\"    f1 score:        \", t_SelfTrain_GNB_score[3])\n",
    "print(\"\\n\")\n",
    "\n",
    "print(\"Self-Training K-NN\")\n",
    "print(\"    accuracy score:  \", t_SelfTrain_KNN_score[0])\n",
    "print(\"    precision score: \", t_SelfTrain_KNN_score[1])\n",
    "print(\"    recall score:    \", t_SelfTrain_KNN_score[2])\n",
    "print(\"    f1 score:        \", t_SelfTrain_KNN_score[3])\n",
    "print(\"\\n\")"
   ]
  },
  {
   "cell_type": "markdown",
   "id": "7d8d6cdc",
   "metadata": {},
   "source": [
    "### The effect of different amounts of unlabeled data on the accuracy of semi-supervised models"
   ]
  },
  {
   "cell_type": "code",
   "execution_count": 17,
   "id": "07407ab5",
   "metadata": {},
   "outputs": [
    {
     "name": "stderr",
     "output_type": "stream",
     "text": [
      "100%|██████████| 11/11 [4:00:54<00:00, 1314.02s/it] \n"
     ]
    }
   ],
   "source": [
    "#data type: embeding\n",
    "embed_record_GNB = []\n",
    "embed_record_KNN = []\n",
    "\n",
    "#data type: tfidf\n",
    "tfidf_record_GNB = []\n",
    "tfidf_record_KNN = []\n",
    "\n",
    "for i in tqdm(range(1, 100002, 10000)):\n",
    "    embed_record_GNB.append(SelfTrain_GNB(embed_data, rng=i)[0])\n",
    "    embed_record_KNN.append(SelfTrain_KNN(tfidf_data, rng=i)[0])\n",
    "    \n",
    "    tfidf_record_GNB.append(SelfTrain_GNB(tfidf_data, rng=i)[0])\n",
    "    tfidf_record_KNN.append(SelfTrain_KNN(tfidf_data, rng=i)[0])"
   ]
  },
  {
   "cell_type": "code",
   "execution_count": 40,
   "id": "e30f4ecf",
   "metadata": {},
   "outputs": [
    {
     "data": {
      "image/png": "[encoded data removed]",
      "text/plain": [
       "<Figure size 1080x360 with 2 Axes>"
      ]
     },
     "metadata": {
      "needs_background": "light"
     },
     "output_type": "display_data"
    }
   ],
   "source": [
    "x = np.array([str(i*10) + \"%\" for i in range(len(embed_record_GNB))])\n",
    "    \n",
    "fig, axs = plt.subplots(1, 2, figsize=(15, 5), sharey=True)\n",
    "\n",
    "# plot self-training GNB\n",
    "axs[0].plot(x, np.array(embed_record_GNB), color='r', label='Embeding Data')\n",
    "axs[0].plot(x, np.array(tfidf_record_GNB), color='b', label='TFIDF Data')\n",
    "axs[0].set_title(\"Self-Training GNB\")\n",
    "axs[0].set_xlabel(\"Unlabeled data usage\")\n",
    "axs[0].set_ylabel(\"Accuracy\")\n",
    "axs[0].legend()\n",
    "\n",
    "# plot self-training K-NN\n",
    "axs[1].plot(x, np.array(embed_record_KNN), color='r', label='Embeding Data')\n",
    "axs[1].plot(x, np.array(tfidf_record_KNN), color='b', label='TFIDF Data')\n",
    "axs[1].set_title(\"Self-Training K-NN\")\n",
    "axs[1].set_xlabel(\"Unlabeled data usage\")\n",
    "axs[1].set_ylabel(\"Accuracy\")\n",
    "axs[1].legend()\n",
    "\n",
    "plt.show()"
   ]
  },
  {
   "cell_type": "markdown",
   "id": "ad5005c9",
   "metadata": {},
   "source": [
    "### Confusion Matrix"
   ]
  },
  {
   "cell_type": "code",
   "execution_count": 42,
   "id": "5d96d494",
   "metadata": {},
   "outputs": [
    {
     "name": "stdout",
     "output_type": "stream",
     "text": [
      "------------------------Sentence-transformers dataset------------------------\n",
      "\n",
      "\n",
      "Gaussian Naive Bayes\n",
      "[[1398  602]\n",
      " [ 939 1061]]\n",
      "\n",
      "\n",
      "Self-Training GNB\n",
      "[[1496  504]\n",
      " [1143  857]]\n",
      "\n",
      "\n",
      "K-Nearest Neighbors\n",
      "[[1243  757]\n",
      " [ 491 1509]]\n",
      "\n",
      "\n",
      "Self-Training K-NN\n",
      "[[1011  989]\n",
      " [ 359 1641]]\n",
      "\n",
      "\n",
      "------------------------TFIDF dataset------------------------\n",
      "\n",
      "\n",
      "Gaussian Naive Bayes\n",
      "[[1301  699]\n",
      " [ 720 1280]]\n",
      "\n",
      "\n",
      "Self-Training GNB\n",
      "[[1322  678]\n",
      " [ 815 1185]]\n",
      "\n",
      "\n",
      "K-Nearest Neighbors\n",
      "[[1376  624]\n",
      " [ 900 1100]]\n",
      "\n",
      "\n",
      "Self-Training K-NN\n",
      "[[1290  710]\n",
      " [ 748 1252]]\n",
      "\n",
      "\n"
     ]
    }
   ],
   "source": [
    "print(\"------------------------Sentence-transformers dataset------------------------\")\n",
    "print(\"\\n\")\n",
    "\n",
    "print(\"Gaussian Naive Bayes\")\n",
    "print(e_GNB_score[4])\n",
    "print(\"\\n\")\n",
    "\n",
    "print(\"Self-Training GNB\")\n",
    "print(e_SelfTrain_GNB_score[4])\n",
    "print(\"\\n\")\n",
    "\n",
    "print(\"K-Nearest Neighbors\")\n",
    "print(e_KNN_score[4])\n",
    "print(\"\\n\")\n",
    "\n",
    "print(\"Self-Training K-NN\")\n",
    "print(e_SelfTrain_KNN_score[4])\n",
    "print(\"\\n\")\n",
    "\n",
    "print(\"------------------------TFIDF dataset------------------------\")\n",
    "print(\"\\n\")\n",
    "\n",
    "print(\"Gaussian Naive Bayes\")\n",
    "print(t_GNB_score[4])\n",
    "print(\"\\n\")\n",
    "\n",
    "print(\"Self-Training GNB\")\n",
    "print(t_SelfTrain_GNB_score[4])\n",
    "print(\"\\n\")\n",
    "\n",
    "print(\"K-Nearest Neighbors\")\n",
    "print(t_KNN_score[4])\n",
    "print(\"\\n\")\n",
    "\n",
    "print(\"Self-Training K-NN\")\n",
    "print(t_SelfTrain_KNN_score[4])\n",
    "print(\"\\n\")"
   ]
  }
 ],
 "metadata": {
  "kernelspec": {
   "display_name": "Python 3 (ipykernel)",
   "language": "python",
   "name": "python3"
  },
  "language_info": {
   "codemirror_mode": {
    "name": "ipython",
    "version": 3
   },
   "file_extension": ".py",
   "mimetype": "text/x-python",
   "name": "python",
   "nbconvert_exporter": "python",
   "pygments_lexer": "ipython3",
   "version": "3.8.8"
  }
 },
 "nbformat": 4,
 "nbformat_minor": 5
}
